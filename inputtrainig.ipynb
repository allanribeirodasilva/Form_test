{
  "nbformat": 4,
  "nbformat_minor": 0,
  "metadata": {
    "colab": {
      "name": "inputtrainig.ipynb",
      "provenance": [],
      "collapsed_sections": [],
      "authorship_tag": "ABX9TyNAXHX/N1AXclU2lik3SDre",
      "include_colab_link": true
    },
    "kernelspec": {
      "name": "python3",
      "display_name": "Python 3"
    },
    "language_info": {
      "name": "python"
    }
  },
  "cells": [
    {
      "cell_type": "markdown",
      "metadata": {
        "id": "view-in-github",
        "colab_type": "text"
      },
      "source": [
        "<a href=\"https://colab.research.google.com/github/allanribeirodasilva/Form_test/blob/main/inputtrainig.ipynb\" target=\"_parent\"><img src=\"https://colab.research.google.com/assets/colab-badge.svg\" alt=\"Open In Colab\"/></a>"
      ]
    },
    {
      "cell_type": "code",
      "metadata": {
        "colab": {
          "base_uri": "https://localhost:8080/"
        },
        "id": "w-LE-sE1KaG0",
        "outputId": "7da6f941-a12f-47b5-ee02-d7e29e8c1ad0"
      },
      "source": [
        "nome=input(\"Digite o nome:\")\n",
        "idade=int(input(\"Digite a idade:\"))\n",
        "doencainfecciosa=input(\"Suspeita de doença infecciosa?\").upper()\n",
        "if idade>=65:\n",
        "  print (\"O paciente \" + nome + \" POSSUI atendimento prioritario\")\n",
        "elif doencainfecciosa==\"SIM\":\n",
        "  print (\"O paciente \" + nome + \" deve ser encaminhado para sala de espera reservada.\")\n",
        "else:\n",
        "  print (\"o paciente \" + nome + \" não possui atendimento prioritario\")"
      ],
      "execution_count": null,
      "outputs": [
        {
          "output_type": "stream",
          "text": [
            "Digite o nome:allan\n",
            "Digite a idade:34\n",
            "Suspeita de doença infecciosa?nao\n",
            "o paciente allan não possui atendimento prioritario\n"
          ],
          "name": "stdout"
        }
      ]
    },
    {
      "cell_type": "code",
      "metadata": {
        "colab": {
          "base_uri": "https://localhost:8080/"
        },
        "id": "o90v4_JrLRtj",
        "outputId": "5f214ec9-1eb8-438a-a3c2-e568d41d743e"
      },
      "source": [
        "numero=int(input(\"digite um numero: \"))\n",
        "while numero<100:\n",
        "  print(\"\\t\" + str(numero))\n",
        "  numero=numero+1\n",
        "print (\"laço encerrado...\")"
      ],
      "execution_count": null,
      "outputs": [
        {
          "output_type": "stream",
          "text": [
            "digite um numero: 80\n",
            "\t80\n",
            "\t81\n",
            "\t82\n",
            "\t83\n",
            "\t84\n",
            "\t85\n",
            "\t86\n",
            "\t87\n",
            "\t88\n",
            "\t89\n",
            "\t90\n",
            "\t91\n",
            "\t92\n",
            "\t93\n",
            "\t94\n",
            "\t95\n",
            "\t96\n",
            "\t97\n",
            "\t98\n",
            "\t99\n",
            "laço encerrado...\n"
          ],
          "name": "stdout"
        }
      ]
    },
    {
      "cell_type": "code",
      "metadata": {
        "colab": {
          "base_uri": "https://localhost:8080/"
        },
        "id": "pMRrwElxPLxc",
        "outputId": "8b2a0f4f-2c07-4d48-d105-e994f8fe4fbc"
      },
      "source": [
        "#for\n",
        "tabuada=int(input(\"digite um numero para exibir a tabuada: \"))\n",
        "print (\"tabuada do numero: \", tabuada)\n",
        "for valor in range (0, 11, 1):\n",
        "  print (str(tabuada) + \"x\" + str(valor) + \"=\" + str((tabuada*valor)))"
      ],
      "execution_count": null,
      "outputs": [
        {
          "output_type": "stream",
          "text": [
            "digite um numero para exibir a tabuada: 9\n",
            "tabuada do numero:  9\n",
            "9x0=0\n",
            "9x1=9\n",
            "9x2=18\n",
            "9x3=27\n",
            "9x4=36\n",
            "9x5=45\n",
            "9x6=54\n",
            "9x7=63\n",
            "9x8=72\n",
            "9x9=81\n",
            "9x10=90\n"
          ],
          "name": "stdout"
        }
      ]
    },
    {
      "cell_type": "code",
      "metadata": {
        "colab": {
          "base_uri": "https://localhost:8080/"
        },
        "id": "WrRivIOLOv-O",
        "outputId": "6048458d-c008-4e30-f336-f9d18223ca9c"
      },
      "source": [
        "#listas\n",
        "inventario = []\n",
        "resposta = \"S\"\n",
        "while resposta==\"S\":\n",
        "  inventario.append(input(\"Equipamento: \"))\n",
        "  inventario.append(float(input(\"Valor: \")))\n",
        "  inventario.append(int(input(\"Numero serial: \")))\n",
        "  inventario.append(input(\"Departamento: \"))\n",
        "  resposta=input(\"Digite \\\"S\\\" para continuar: \").upper()\n",
        "for elemento in inventario:\n",
        "  print(elemento)\n"
      ],
      "execution_count": null,
      "outputs": [
        {
          "output_type": "stream",
          "text": [
            "Equipamento: ze3\n",
            "Valor: 100.3\n",
            "Numero serial: 332\n",
            "Departamento: TI\n",
            "Digite \"S\" para continuar: n\n",
            "ze3\n",
            "100.3\n",
            "332\n",
            "TI\n"
          ],
          "name": "stdout"
        }
      ]
    },
    {
      "cell_type": "code",
      "metadata": {
        "colab": {
          "base_uri": "https://localhost:8080/"
        },
        "id": "1JW9tvJ6Sxc5",
        "outputId": "37cec28a-b83d-49a8-b36f-96d71e233f68"
      },
      "source": [
        "inventario"
      ],
      "execution_count": null,
      "outputs": [
        {
          "output_type": "execute_result",
          "data": {
            "text/plain": [
              "['ze3', 100.3, 332, 'TI']"
            ]
          },
          "metadata": {
            "tags": []
          },
          "execution_count": 18
        }
      ]
    },
    {
      "cell_type": "code",
      "metadata": {
        "colab": {
          "base_uri": "https://localhost:8080/"
        },
        "id": "uNc5aOlITTQi",
        "outputId": "60bddfeb-ac2e-449f-8acd-b73f0bf5f2e8"
      },
      "source": [
        "equipamentos = []\n",
        "valores = []\n",
        "seriais = []\n",
        "departamentos = []\n",
        "resposta = \"S\"\n",
        "while resposta == \"S\":\n",
        "  equipamentos.append(input(\"Equipamento: \"))\n",
        "  valores.append(float(input(\"Valor: \")))\n",
        "  seriais.append(int(input(\"Numero serial: \")))\n",
        "  departamentos.append(input(\"Departamento: \"))\n",
        "  resposta = input(\"Digite \\\"S\\\" para continuar: \").upper()\n",
        "for indice in range (0, len(equipamentos)):\n",
        "  print(\"\\nEquipamento..: \", (indice+1))\n",
        "  print(\"Nome...: \", equipamentos[indice])\n",
        "  print(\"Valor...: \", valores[indice])\n",
        "  print(\"Serial...: \", seriais[indice])\n",
        "  print(\"Departamento...: \", departamentos[indice])"
      ],
      "execution_count": null,
      "outputs": [
        {
          "output_type": "stream",
          "text": [
            "Equipamento: maca\n",
            "Valor: 332.23\n",
            "Numero serial: 332\n",
            "Departamento: OPE\n",
            "Digite \"S\" para continuar: n\n",
            "\n",
            "Equipamento..:  1\n",
            "Nome...:  maca\n",
            "Valor...:  332.23\n",
            "Serial...:  332\n",
            "Departamento...:  OPE\n"
          ],
          "name": "stdout"
        }
      ]
    },
    {
      "cell_type": "code",
      "metadata": {
        "colab": {
          "base_uri": "https://localhost:8080/"
        },
        "id": "3emFIpbFV1hC",
        "outputId": "8f4d0224-1b8b-4026-e2fd-1a02994b1902"
      },
      "source": [
        "equipamentos = []\n",
        "valores = []\n",
        "seriais = []\n",
        "departamentos = []\n",
        "resposta = \"S\"\n",
        "while resposta == \"S\":\n",
        "  equipamentos.append(input(\"Equipamento: \"))\n",
        "  valores.append(float(input(\"Valor: \")))\n",
        "  seriais.append(int(input(\"Numero serial: \")))\n",
        "  departamentos.append(input(\"Departamento: \"))\n",
        "  resposta = input(\"Digite \\\"S\\\" para continuar: \").upper()\n",
        "busca = input(\"\\nDigite o nome do equipamento que deseja buscar: \")\n",
        "for indice in range(0,len(equipamentos)):\n",
        "  if busca == equipamentos[indice]:\n",
        "    print (\"Valor...:\", valores [indice])\n",
        "    print (\"Serial...:\", seriais [indice])"
      ],
      "execution_count": null,
      "outputs": [
        {
          "output_type": "stream",
          "text": [
            "Equipamento: maca\n",
            "Valor: 200.32\n",
            "Numero serial: 221\n",
            "Departamento: ope\n",
            "Digite \"S\" para continuar: s\n",
            "Equipamento: maca2\n",
            "Valor: 221.3\n",
            "Numero serial: 2213\n",
            "Departamento: financas\n",
            "Digite \"S\" para continuar: n\n",
            "\n",
            "Digite o nome do equipamento que deseja buscar: maca\n",
            "Valor...: 200.32\n",
            "Serial...: 221\n"
          ],
          "name": "stdout"
        }
      ]
    },
    {
      "cell_type": "code",
      "metadata": {
        "id": "p__HDlPyXfBO"
      },
      "source": [
        ""
      ],
      "execution_count": null,
      "outputs": []
    }
  ]
}